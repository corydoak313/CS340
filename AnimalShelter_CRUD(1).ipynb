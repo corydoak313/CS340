{
 "cells": [
  {
   "cell_type": "code",
   "execution_count": 7,
   "id": "b10dac9a",
   "metadata": {
    "scrolled": false
   },
   "outputs": [
    {
     "ename": "TypeError",
     "evalue": "'type' object is not subscriptable",
     "output_type": "error",
     "traceback": [
      "\u001b[0;31m---------------------------------------------------------------------------\u001b[0m",
      "\u001b[0;31mTypeError\u001b[0m                                 Traceback (most recent call last)",
      "Input \u001b[0;32mIn [7]\u001b[0m, in \u001b[0;36m<cell line: 5>\u001b[0;34m()\u001b[0m\n\u001b[1;32m      1\u001b[0m \u001b[38;5;28;01mfrom\u001b[39;00m \u001b[38;5;21;01mAnimal_Shelter\u001b[39;00m \u001b[38;5;28;01mimport\u001b[39;00m AnimalShelter\n\u001b[1;32m      2\u001b[0m \u001b[38;5;28;01mfrom\u001b[39;00m \u001b[38;5;21;01mbson\u001b[39;00m\u001b[38;5;21;01m.\u001b[39;00m\u001b[38;5;21;01mobjectid\u001b[39;00m \u001b[38;5;28;01mimport\u001b[39;00m ObjectId\n\u001b[0;32m----> 5\u001b[0m \u001b[38;5;28;01mclass\u001b[39;00m \u001b[38;5;21;01mAnimalShelterCRUD\u001b[39;00m(\u001b[38;5;28mobject\u001b[39m):\n\u001b[1;32m      6\u001b[0m     animals \u001b[38;5;241m=\u001b[39m AnimalShelter()\n\u001b[1;32m      8\u001b[0m     data \u001b[38;5;241m=\u001b[39m {\n\u001b[1;32m      9\u001b[0m       \u001b[38;5;124m'\u001b[39m\u001b[38;5;124mage_upon_outcome\u001b[39m\u001b[38;5;124m'\u001b[39m: \u001b[38;5;124m'\u001b[39m\u001b[38;5;124m1 year\u001b[39m\u001b[38;5;124m'\u001b[39m,\n\u001b[1;32m     10\u001b[0m       \u001b[38;5;124m'\u001b[39m\u001b[38;5;124manimal_id\u001b[39m\u001b[38;5;124m'\u001b[39m: \u001b[38;5;124m'\u001b[39m\u001b[38;5;124mTEST\u001b[39m\u001b[38;5;124m'\u001b[39m,\n\u001b[0;32m   (...)\u001b[0m\n\u001b[1;32m     22\u001b[0m       \u001b[38;5;124m'\u001b[39m\u001b[38;5;124mlocation_long\u001b[39m\u001b[38;5;124m'\u001b[39m: \u001b[38;5;241m-\u001b[39m\u001b[38;5;241m97.7419963476254\u001b[39m,\n\u001b[1;32m     23\u001b[0m       \u001b[38;5;124m'\u001b[39m\u001b[38;5;124mage_upon_outcome_in_weeks\u001b[39m\u001b[38;5;124m'\u001b[39m: \u001b[38;5;241m52.9215277777778\u001b[39m}\n",
      "Input \u001b[0;32mIn [7]\u001b[0m, in \u001b[0;36mAnimalShelterCRUD\u001b[0;34m()\u001b[0m\n\u001b[1;32m      5\u001b[0m \u001b[38;5;28;01mclass\u001b[39;00m \u001b[38;5;21;01mAnimalShelterCRUD\u001b[39;00m(\u001b[38;5;28mobject\u001b[39m):\n\u001b[0;32m----> 6\u001b[0m     animals \u001b[38;5;241m=\u001b[39m \u001b[43mAnimalShelter\u001b[49m\u001b[43m(\u001b[49m\u001b[43m)\u001b[49m\n\u001b[1;32m      8\u001b[0m     data \u001b[38;5;241m=\u001b[39m {\n\u001b[1;32m      9\u001b[0m       \u001b[38;5;124m'\u001b[39m\u001b[38;5;124mage_upon_outcome\u001b[39m\u001b[38;5;124m'\u001b[39m: \u001b[38;5;124m'\u001b[39m\u001b[38;5;124m1 year\u001b[39m\u001b[38;5;124m'\u001b[39m,\n\u001b[1;32m     10\u001b[0m       \u001b[38;5;124m'\u001b[39m\u001b[38;5;124manimal_id\u001b[39m\u001b[38;5;124m'\u001b[39m: \u001b[38;5;124m'\u001b[39m\u001b[38;5;124mTEST\u001b[39m\u001b[38;5;124m'\u001b[39m,\n\u001b[0;32m   (...)\u001b[0m\n\u001b[1;32m     22\u001b[0m       \u001b[38;5;124m'\u001b[39m\u001b[38;5;124mlocation_long\u001b[39m\u001b[38;5;124m'\u001b[39m: \u001b[38;5;241m-\u001b[39m\u001b[38;5;241m97.7419963476254\u001b[39m,\n\u001b[1;32m     23\u001b[0m       \u001b[38;5;124m'\u001b[39m\u001b[38;5;124mage_upon_outcome_in_weeks\u001b[39m\u001b[38;5;124m'\u001b[39m: \u001b[38;5;241m52.9215277777778\u001b[39m}\n\u001b[1;32m     25\u001b[0m     \u001b[38;5;66;03m#testing no data\u001b[39;00m\n\u001b[1;32m     26\u001b[0m     \u001b[38;5;66;03m#REMOVE HASH\u001b[39;00m\n\u001b[1;32m     27\u001b[0m     \u001b[38;5;66;03m#data = none\u001b[39;00m\n\u001b[1;32m     28\u001b[0m \n\u001b[1;32m     29\u001b[0m     \u001b[38;5;66;03m#calling for create fucntionality\u001b[39;00m\n",
      "File \u001b[0;32m~/Downloads/Animal_Shelter.py:25\u001b[0m, in \u001b[0;36mAnimalShelter.__init__\u001b[0;34m(self)\u001b[0m\n\u001b[1;32m     21\u001b[0m COL \u001b[38;5;241m=\u001b[39m \u001b[38;5;124m'\u001b[39m\u001b[38;5;124manimals\u001b[39m\u001b[38;5;124m'\u001b[39m\n\u001b[1;32m     22\u001b[0m \u001b[38;5;66;03m#\u001b[39;00m\n\u001b[1;32m     23\u001b[0m \u001b[38;5;66;03m#initialize connection\u001b[39;00m\n\u001b[1;32m     24\u001b[0m \u001b[38;5;66;03m#\u001b[39;00m\n\u001b[0;32m---> 25\u001b[0m \u001b[38;5;28mself\u001b[39m\u001b[38;5;241m.\u001b[39mclient \u001b[38;5;241m=\u001b[39m \u001b[43mMongoClient\u001b[49m\u001b[43m[\u001b[49m\u001b[38;5;124;43m'\u001b[39;49m\u001b[38;5;124;43mmongodb://\u001b[39;49m\u001b[38;5;132;43;01m%s\u001b[39;49;00m\u001b[38;5;124;43m:\u001b[39;49m\u001b[38;5;132;43;01m%s\u001b[39;49;00m\u001b[38;5;124;43m@localHost:31580\u001b[39;49m\u001b[38;5;124;43m'\u001b[39;49m\u001b[43m \u001b[49m\u001b[38;5;241;43m%\u001b[39;49m\u001b[43m \u001b[49m\u001b[43m(\u001b[49m\u001b[38;5;124;43m'\u001b[39;49m\u001b[38;5;124;43maacuser\u001b[39;49m\u001b[38;5;124;43m'\u001b[39;49m\u001b[43m,\u001b[49m\u001b[43m \u001b[49m\u001b[38;5;124;43m'\u001b[39;49m\u001b[38;5;124;43mSNHU1234\u001b[39;49m\u001b[38;5;124;43m'\u001b[39;49m\u001b[43m)\u001b[49m\u001b[43m]\u001b[49m\n\u001b[1;32m     26\u001b[0m \u001b[38;5;28mself\u001b[39m\u001b[38;5;241m.\u001b[39mdatabase \u001b[38;5;241m=\u001b[39m \u001b[38;5;28mself\u001b[39m\u001b[38;5;241m.\u001b[39mclient[\u001b[38;5;124m'\u001b[39m\u001b[38;5;124mAAC\u001b[39m\u001b[38;5;124m'\u001b[39m \u001b[38;5;241m%\u001b[39m (DB)]\n\u001b[1;32m     27\u001b[0m \u001b[38;5;28mself\u001b[39m\u001b[38;5;241m.\u001b[39mcollection \u001b[38;5;241m=\u001b[39m \u001b[38;5;28mself\u001b[39m\u001b[38;5;241m.\u001b[39mdatabase[\u001b[38;5;124m'\u001b[39m\u001b[38;5;132;01m%s\u001b[39;00m\u001b[38;5;124m'\u001b[39m \u001b[38;5;241m%\u001b[39m (COL)]\n",
      "\u001b[0;31mTypeError\u001b[0m: 'type' object is not subscriptable"
     ]
    }
   ],
   "source": [
    "from Animal_Shelter import AnimalShelter\n",
    "from bson.objectid import ObjectId\n",
    "\n",
    "\n",
    "class AnimalShelterCRUD(object):\n",
    "    animals = AnimalShelter()\n",
    "\n",
    "    data = {\n",
    "      'age_upon_outcome': '1 year',\n",
    "      'animal_id': 'TEST',\n",
    "      'animal_type': 'Dog',\n",
    "      'breed': 'Domestic',\n",
    "      'color': 'Black',\n",
    "      'date_of_birth': '2023-06-02',\n",
    "      'datetime': '2024-05-06 10:49:00',\n",
    "      'monthyear': '2024-05-06T10:49:00',\n",
    "      'name': 'Steve',\n",
    "      'outcome_subtype': '',\n",
    "      'outcome_type': 'Transfer',\n",
    "      'sex_upon_outcome': 'Spayed Female',\n",
    "      'location_lat': 30.6525984560118,\n",
    "      'location_long': -97.7419963476254,\n",
    "      'age_upon_outcome_in_weeks': 52.9215277777778}\n",
    "\n",
    "    #testing no data\n",
    "    #REMOVE HASH\n",
    "    #data = none\n",
    "\n",
    "    #calling for create fucntionality\n",
    "    if animals.create(data):\n",
    "        print(\"New Animal Added\")\n",
    "\n",
    "    #calling for read funcitonality\n",
    "    request = animals.read({'name' : 'Steve'})\n",
    "    for animal in request:\n",
    "        print(animal)\n",
    "\n",
    "    #calling for update fuctionality\n",
    "    updateAnimal = animals.update({'name' : 'Steve'}, {'outcome_type' : 'Adopted '})\n",
    "    print(updateAnimal)\n",
    "\n",
    "    #calling for delete functionality\n",
    "    deleteAnimal = animals.delete({'name' : 'Steve'})\n",
    "    print(deleteAnimal)"
   ]
  },
  {
   "cell_type": "code",
   "execution_count": null,
   "id": "8585d656",
   "metadata": {
    "scrolled": false
   },
   "outputs": [],
   "source": []
  },
  {
   "cell_type": "code",
   "execution_count": null,
   "id": "ef55e597",
   "metadata": {},
   "outputs": [],
   "source": []
  },
  {
   "cell_type": "code",
   "execution_count": null,
   "id": "3402b489",
   "metadata": {},
   "outputs": [],
   "source": []
  },
  {
   "cell_type": "code",
   "execution_count": null,
   "id": "7d188671",
   "metadata": {},
   "outputs": [],
   "source": []
  },
  {
   "cell_type": "code",
   "execution_count": null,
   "id": "11497e2e",
   "metadata": {},
   "outputs": [],
   "source": []
  },
  {
   "cell_type": "code",
   "execution_count": null,
   "id": "6166aa3c",
   "metadata": {},
   "outputs": [],
   "source": []
  },
  {
   "cell_type": "code",
   "execution_count": null,
   "id": "5c84063c",
   "metadata": {},
   "outputs": [],
   "source": []
  },
  {
   "cell_type": "code",
   "execution_count": null,
   "id": "14807e5a",
   "metadata": {},
   "outputs": [],
   "source": []
  }
 ],
 "metadata": {
  "kernelspec": {
   "display_name": "Python 3 (ipykernel)",
   "language": "python",
   "name": "python3"
  },
  "language_info": {
   "codemirror_mode": {
    "name": "ipython",
    "version": 3
   },
   "file_extension": ".py",
   "mimetype": "text/x-python",
   "name": "python",
   "nbconvert_exporter": "python",
   "pygments_lexer": "ipython3",
   "version": "3.9.12"
  }
 },
 "nbformat": 4,
 "nbformat_minor": 5
}
